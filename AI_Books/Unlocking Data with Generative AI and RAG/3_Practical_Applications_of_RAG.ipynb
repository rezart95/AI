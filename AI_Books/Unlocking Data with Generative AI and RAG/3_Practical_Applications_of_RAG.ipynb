{
 "cells": [
  {
   "cell_type": "code",
   "execution_count": 3,
   "metadata": {},
   "outputs": [],
   "source": [
    "import os\n",
    "from langchain_community.document_loaders import WebBaseLoader\n",
    "import bs4\n",
    "import openai\n",
    "from langchain_openai import ChatOpenAI, OpenAIEmbeddings\n",
    "from langchain import hub\n",
    "from langchain_core.output_parsers import StrOutputParser\n",
    "from langchain_core.runnables import RunnablePassthrough, RunnableParallel\n",
    "import chromadb\n",
    "from langchain_community.vectorstores import Chroma\n",
    "from langchain_experimental.text_splitter import SemanticChunker"
   ]
  },
  {
   "cell_type": "code",
   "execution_count": 5,
   "metadata": {},
   "outputs": [],
   "source": [
    "import warnings\n",
    "\n",
    "def simple_warning_format(message, category, filename, lineno, file=None, line=None):\n",
    "    return f\"{category.__name__}: {message}\\n\"\n",
    "\n",
    "warnings.formatwarning = simple_warning_format\n",
    "warnings.simplefilter(\"always\", UserWarning)"
   ]
  },
  {
   "cell_type": "code",
   "execution_count": null,
   "metadata": {},
   "outputs": [],
   "source": [
    "# CODE FROM CHAPTER 2\n",
    "\n",
    "#### INDEXING ####\n",
    "loader = WebBaseLoader(\n",
    " web_paths=(\"https://kbourne.github.io/chapter1.html\",),\n",
    " bs_kwargs=dict(parse_only=bs4.SoupStrainer(\n",
    " class_=(\"post-content\",\n",
    " \"post-title\",\n",
    " \"post-header\")\n",
    " )\n",
    " ),\n",
    ")\n",
    "\n",
    "docs = loader.load()\n",
    "\n",
    "text_splitter = SemanticChunker(OpenAIEmbeddings())\n",
    "splits = text_splitter.split_documents(docs)\n",
    "\n",
    "vectorstore = Chroma.from_documents(\n",
    " documents=splits,\n",
    " embedding=OpenAIEmbeddings())\n",
    "\n",
    "retriever = vectorstore.as_retriever()\n",
    "\n",
    "\n",
    "#### RETRIEVAL and GENERATION ####\n",
    "prompt = hub.pull(\"jclemens24/rag-prompt\")\n",
    "\n",
    "def format_docs(docs):\n",
    " return \"\\n\\n\".join(doc.page_content for doc in docs)\n",
    "\n",
    "llm = ChatOpenAI(model_name=\"gpt-4o-mini\")\n",
    "\n",
    "rag_chain = (\n",
    " {\"context\": retriever | format_docs,\n",
    " \"question\": RunnablePassthrough()}\n",
    " | prompt\n",
    " | llm\n",
    " | StrOutputParser()\n",
    ")\n",
    "\n",
    "rag_chain.invoke(\"What are the Advantages of using RAG?\")"
   ]
  },
  {
   "cell_type": "code",
   "execution_count": 10,
   "metadata": {},
   "outputs": [],
   "source": [
    "# Adding sources to your RAG\n",
    "\n",
    "# The rag_chain_from_docs chain is created using RunnablePassthrough.assign() to format the documents retrieved from the context. \n",
    "# It then pipes the formatted context through prompt, llm, and StrOutputParser().\n",
    "rag_chain_from_docs = (\n",
    "    RunnablePassthrough.assign(context=(lambda x: format_docs(x[\"context\"])))\n",
    "    | prompt\n",
    "    | llm\n",
    "    | StrOutputParser()\n",
    ")\n",
    "\n",
    "\n",
    "# The rag_chain_with_source chain is created using RunnableParallel() to run the retriever \n",
    "# and RunnablePassthrough() in parallel for \"context\" and \"question\", respectively. \n",
    "# The result is then assigned to \"answer\" using rag_chain_from_docs.\n",
    "rag_chain_with_source = RunnableParallel(\n",
    "    {\"context\": retriever,\n",
    "     \"question\": RunnablePassthrough()}\n",
    ").assign(answer=rag_chain_from_docs)\n"
   ]
  },
  {
   "cell_type": "code",
   "execution_count": null,
   "metadata": {},
   "outputs": [],
   "source": [
    "rag_chain_with_source.invoke(\"What are the advantages of using RAG\")"
   ]
  }
 ],
 "metadata": {
  "kernelspec": {
   "display_name": ".venv",
   "language": "python",
   "name": "python3"
  },
  "language_info": {
   "codemirror_mode": {
    "name": "ipython",
    "version": 3
   },
   "file_extension": ".py",
   "mimetype": "text/x-python",
   "name": "python",
   "nbconvert_exporter": "python",
   "pygments_lexer": "ipython3",
   "version": "3.11.9"
  }
 },
 "nbformat": 4,
 "nbformat_minor": 2
}
