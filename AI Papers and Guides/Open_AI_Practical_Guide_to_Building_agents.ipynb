{
 "cells": [
  {
   "cell_type": "markdown",
   "id": "6fb9fc5e",
   "metadata": {},
   "source": [
    "## Agent Design Foundations"
   ]
  },
  {
   "cell_type": "markdown",
   "id": "d8f46e2a",
   "metadata": {},
   "source": [
    "### Model --> \n",
    "\n",
    "### Toold --> \n",
    "\n",
    "### Instructions --> "
   ]
  },
  {
   "cell_type": "markdown",
   "id": "0465ee68",
   "metadata": {},
   "source": []
  }
 ],
 "metadata": {
  "language_info": {
   "name": "python"
  }
 },
 "nbformat": 4,
 "nbformat_minor": 5
}
